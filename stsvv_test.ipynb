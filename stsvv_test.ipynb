{
 "cells": [
  {
   "cell_type": "code",
   "execution_count": null,
   "metadata": {},
   "outputs": [],
   "source": [
    "from sentence_transformers import models, SentenceTransformer\n",
    "from sentence_transformers.evaluation import EmbeddingSimilarityEvaluator\n",
    "from sentence_transformers.readers import STSDataReader"
   ]
  },
  {
   "cell_type": "code",
   "execution_count": null,
   "metadata": {},
   "outputs": [],
   "source": [
    "sts_reader = STSDataReader(dataset_folder=\"./stsvv-clean\")\n",
    "\n",
    "test_set = sts_reader.get_examples(\"test.csv\")"
   ]
  },
  {
   "cell_type": "code",
   "execution_count": null,
   "metadata": {},
   "outputs": [],
   "source": [
    "model = models.Transformer(\"./model.zip\")\n",
    "\n",
    "model.tokenizer.add_special_tokens({'pad_token': '[PAD]'})\n",
    "model.auto_model.resize_token_embeddings(len(model.tokenizer))\n",
    "\n",
    "pooling_model = models.Pooling(model.get_word_embedding_dimension())\n",
    "\n",
    "model = SentenceTransformer(modules=[model, pooling_model])"
   ]
  },
  {
   "cell_type": "code",
   "execution_count": null,
   "metadata": {},
   "outputs": [],
   "source": [
    "from sentence_transformers import SentenceTransformer, util\n",
    "\n",
    "predictions = []\n",
    "for example in test_set:\n",
    "    sentence1 = example.texts[0]\n",
    "    sentence2 = example.texts[1]\n",
    "    label = example.label\n",
    "\n",
    "    sentence_embeddings1 = model.encode(sentence1, show_progress_bar=False)\n",
    "    sentence_embeddings2 = model.encode(sentence2, show_progress_bar=False)\n",
    "\n",
    "    cos_similarity = util.cos_sim(sentence_embeddings1, sentence_embeddings2)\n",
    "    \n",
    "    predictions.append((sentence1, sentence2, label, round(float(cos_similarity), 2)))\n",
    "\n",
    "incorrect_predictions = []\n",
    "for example in predictions:\n",
    "    sentence1, sentence2, label, prediction = example\n",
    "    \n",
    "    temp_pred = 1 if prediction >= 0.5 else 0\n",
    "    temp_label = 1 if label >= 0.5 else 0\n",
    "    \n",
    "    if temp_pred != temp_label:\n",
    "        incorrect_predictions.append(example)\n",
    "\n",
    "print((len(predictions) - len(incorrect_predictions))/len(predictions))"
   ]
  },
  {
   "cell_type": "code",
   "execution_count": null,
   "metadata": {},
   "outputs": [],
   "source": [
    "sentence_1 = model.encode(\"Ngày mai quân lính sẽ đến dọn dẹp tàn dư của cuộc chiến.\", show_progress_bar=False)\n",
    "sentence_2 = model.encode(\"Một cuộc dọn dẹp sẽ được thực hiện vào ngày mai bởi quân đội.\", show_progress_bar=False)\n",
    "\n",
    "cos_similarity = util.cos_sim(sentence_1, sentence_2)\n",
    "\n",
    "print(\"Similar\" if round(float(cos_similarity)) >= 0.5 else \"Not similar\")"
   ]
  }
 ],
 "metadata": {
  "kernelspec": {
   "display_name": "venv",
   "language": "python",
   "name": "python3"
  },
  "language_info": {
   "codemirror_mode": {
    "name": "ipython",
    "version": 3
   },
   "file_extension": ".py",
   "mimetype": "text/x-python",
   "name": "python",
   "nbconvert_exporter": "python",
   "pygments_lexer": "ipython3",
   "version": "3.11.6"
  }
 },
 "nbformat": 4,
 "nbformat_minor": 2
}
