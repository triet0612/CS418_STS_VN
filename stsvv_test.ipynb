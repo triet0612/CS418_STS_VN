{
 "cells": [
  {
   "cell_type": "code",
   "execution_count": null,
   "metadata": {},
   "outputs": [],
   "source": [
    "from sentence_transformers import models, SentenceTransformer\n",
    "from sentence_transformers.evaluation import EmbeddingSimilarityEvaluator\n",
    "from sentence_transformers.readers import STSDataReader"
   ]
  },
  {
   "cell_type": "code",
   "execution_count": null,
   "metadata": {},
   "outputs": [],
   "source": [
    "sts_reader = STSDataReader(dataset_folder=\"./stsvv\")\n",
    "\n",
    "test_set = sts_reader.get_examples(\"test.csv\")"
   ]
  },
  {
   "cell_type": "code",
   "execution_count": null,
   "metadata": {},
   "outputs": [],
   "source": [
    "model = models.Transformer(\"./model.zip\")\n",
    "\n",
    "model.tokenizer.add_special_tokens({'pad_token': '[PAD]'})\n",
    "model.auto_model.resize_token_embeddings(len(model.tokenizer))\n",
    "\n",
    "pooling_model = models.Pooling(model.get_word_embedding_dimension())\n",
    "\n",
    "model = SentenceTransformer(modules=[model, pooling_model])"
   ]
  },
  {
   "cell_type": "code",
   "execution_count": null,
   "metadata": {},
   "outputs": [],
   "source": [
    "evaluator = EmbeddingSimilarityEvaluator.from_input_examples(test_set)\n",
    "\n",
    "print(model.evaluate(evaluator=evaluator))"
   ]
  }
 ],
 "metadata": {
  "kernelspec": {
   "display_name": "venv",
   "language": "python",
   "name": "python3"
  },
  "language_info": {
   "codemirror_mode": {
    "name": "ipython",
    "version": 3
   },
   "file_extension": ".py",
   "mimetype": "text/x-python",
   "name": "python",
   "nbconvert_exporter": "python",
   "pygments_lexer": "ipython3",
   "version": "3.11.6"
  }
 },
 "nbformat": 4,
 "nbformat_minor": 2
}
