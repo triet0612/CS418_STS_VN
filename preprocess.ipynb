{
 "cells": [
  {
   "cell_type": "code",
   "execution_count": 6,
   "metadata": {},
   "outputs": [],
   "source": [
    "# !pip install underthesea"
   ]
  },
  {
   "cell_type": "code",
   "execution_count": 7,
   "metadata": {},
   "outputs": [],
   "source": [
    "import pandas as pd"
   ]
  },
  {
   "cell_type": "code",
   "execution_count": 8,
   "metadata": {},
   "outputs": [],
   "source": [
    "from underthesea import word_tokenize, text_normalize\n",
    "\n",
    "def segmentation_normalize(sen: str):\n",
    "    return word_tokenize(text_normalize(sen), format=\"text\")"
   ]
  },
  {
   "cell_type": "code",
   "execution_count": 9,
   "metadata": {},
   "outputs": [],
   "source": [
    "def clean(name: str):\n",
    "    removal = [\n",
    "        '`', '~', '!', '@', '#', '^', '&', '*', '(', ')', '_', '-', '=', '+', '[', ']',\n",
    "        '{', '}', ';', ':', '\"', '<', '>', '.', '/', '?', \"'\", \"\\\\\", \"|\"\n",
    "    ]\n",
    "\n",
    "    dataset = pd.read_csv(\n",
    "        './stsvv/{}.csv'.format(name),\n",
    "        engine='python',\n",
    "        encoding='utf-8',\n",
    "        sep='\\t',\n",
    "        names=['Sentence 1', 'Sentence 2', 'Total score'],\n",
    "        index_col=False,\n",
    "        keep_default_na=False\n",
    "    )\n",
    "\n",
    "    df_modified = dataset.copy()\n",
    "    for each in removal:\n",
    "        df_modified['Sentence 1'] = df_modified['Sentence 1'].str.replace(each, '')\n",
    "        df_modified['Sentence 2'] = df_modified['Sentence 2'].str.replace(each, '')\n",
    "\n",
    "    for i, sen in df_modified.iterrows():\n",
    "        df_modified.at[i, 'Sentence 1'] = segmentation_normalize(sen['Sentence 1'])\n",
    "        df_modified.at[i, 'Sentence 2']  = segmentation_normalize(sen['Sentence 2'])\n",
    "\n",
    "\n",
    "    # Assuming you've performed modifications and stored the result in df_modified\n",
    "    # Export the modified DataFrame to a CSV file\n",
    "    df_modified.to_csv('./stsvv-clean/{}.csv'.format(name), header=False, index=False, sep='\\t')"
   ]
  },
  {
   "cell_type": "code",
   "execution_count": 10,
   "metadata": {},
   "outputs": [],
   "source": [
    "clean(\"train\")\n",
    "clean(\"eval\")\n",
    "clean(\"test\")"
   ]
  }
 ],
 "metadata": {
  "kernelspec": {
   "display_name": "venv",
   "language": "python",
   "name": "python3"
  },
  "language_info": {
   "codemirror_mode": {
    "name": "ipython",
    "version": 3
   },
   "file_extension": ".py",
   "mimetype": "text/x-python",
   "name": "python",
   "nbconvert_exporter": "python",
   "pygments_lexer": "ipython3",
   "version": "3.11.6"
  }
 },
 "nbformat": 4,
 "nbformat_minor": 2
}
