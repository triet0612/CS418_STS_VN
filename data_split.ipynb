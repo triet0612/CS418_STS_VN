{
 "cells": [
  {
   "cell_type": "code",
   "execution_count": 1,
   "metadata": {},
   "outputs": [],
   "source": [
    "from numpy.random import RandomState\n",
    "import pandas as pd\n",
    "\n",
    "dataset = pd.read_csv(\n",
    "    './STS_VV.csv',\n",
    "    engine='python',\n",
    "    encoding='utf-8',\n",
    "    sep='\\t',\n",
    "    names=['Sentence 1', 'Sentence 2', 'Total score'],\n",
    "    index_col=False,\n",
    "    keep_default_na=False\n",
    ")\n",
    "rng = RandomState()\n",
    "\n",
    "train = dataset.sample(frac=0.8, random_state=rng)\n",
    "remain = dataset.loc[~dataset.index.isin(train.index)]\n",
    "\n",
    "test = remain.sample(frac=0.5, random_state=rng)\n",
    "eval = remain.loc[~remain.index.isin(test.index)]"
   ]
  },
  {
   "cell_type": "code",
   "execution_count": 2,
   "metadata": {},
   "outputs": [
    {
     "name": "stdout",
     "output_type": "stream",
     "text": [
      "3744\n",
      "468\n",
      "468\n"
     ]
    }
   ],
   "source": [
    "print(train.size)\n",
    "print(test.size)\n",
    "print(eval.size)"
   ]
  },
  {
   "cell_type": "code",
   "execution_count": 3,
   "metadata": {},
   "outputs": [],
   "source": [
    "train.to_csv('./stsvv/train.csv', header=False, index=False, sep='\\t')\n",
    "test.to_csv('./stsvv/test.csv', header=False, index=False, sep='\\t')\n",
    "eval.to_csv('./stsvv/eval.csv', header=False, index=False, sep='\\t')"
   ]
  }
 ],
 "metadata": {
  "kernelspec": {
   "display_name": "venv",
   "language": "python",
   "name": "python3"
  },
  "language_info": {
   "codemirror_mode": {
    "name": "ipython",
    "version": 3
   },
   "file_extension": ".py",
   "mimetype": "text/x-python",
   "name": "python",
   "nbconvert_exporter": "python",
   "pygments_lexer": "ipython3",
   "version": "3.11.6"
  }
 },
 "nbformat": 4,
 "nbformat_minor": 2
}
